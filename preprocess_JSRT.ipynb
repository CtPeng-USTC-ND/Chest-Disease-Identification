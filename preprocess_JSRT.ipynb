{
 "cells": [
  {
   "cell_type": "code",
   "execution_count": 2,
   "metadata": {},
   "outputs": [],
   "source": [
    "import os, glob, cv2\n",
    "import numpy as np\n",
    "from skimage import io, exposure\n",
    "from matplotlib import pyplot as plt\n",
    "%matplotlib inline"
   ]
  },
  {
   "cell_type": "code",
   "execution_count": 33,
   "metadata": {
    "collapsed": true
   },
   "outputs": [],
   "source": [
    "JSRT_PATH = '/data1/pengchengtao/Chest X-ray disease/JSRT/All247images/*'"
   ]
  },
  {
   "cell_type": "code",
   "execution_count": 35,
   "metadata": {
    "collapsed": true
   },
   "outputs": [],
   "source": [
    "for JSRT_IMAGE in glob.glob(JSRT_PATH):\n",
    "    img = 1.0 - np.fromfile(JSRT_IMAGE, dtype='>u2').reshape((2048, 2048)) * 1. / 4096\n",
    "    img = exposure.equalize_hist(img)\n",
    "    io.imsave(os.path.join('/data1/pengchengtao/Chest X-ray disease/lung-segmentation-2d/custom_segment/JSRT/Data/',\n",
    "                           JSRT_IMAGE.split(os.sep)[-1].replace('.IMG', '.png')), img)"
   ]
  },
  {
   "cell_type": "code",
   "execution_count": null,
   "metadata": {
    "collapsed": true
   },
   "outputs": [],
   "source": []
  },
  {
   "cell_type": "code",
   "execution_count": null,
   "metadata": {},
   "outputs": [],
   "source": []
  },
  {
   "cell_type": "code",
   "execution_count": 1,
   "metadata": {},
   "outputs": [],
   "source": [
    "JSRT_MASK_PATH = '/data1/pengchengtao/Chest X-ray disease/JSRT/scratch/*/masks/heart/*'"
   ]
  },
  {
   "cell_type": "code",
   "execution_count": 79,
   "metadata": {
    "collapsed": true
   },
   "outputs": [],
   "source": [
    "for JSRT_MASK in glob.glob(JSRT_MASK_PATH):\n",
    "    heart = io.imread(JSRT_MASK)\n",
    "    left_lung = io.imread(JSRT_MASK.replace('heart', 'left lung'))\n",
    "    right_lung = io.imread(JSRT_MASK.replace('heart', 'right lung'))\n",
    "    left_clavicle = io.imread(JSRT_MASK.replace('heart', 'left clavicle'))\n",
    "    right_clavicle = io.imread(JSRT_MASK.replace('heart', 'right clavicle'))\n",
    "    \n",
    "    temp_mask = np.zeros((3, 1024, 1024))\n",
    "\n",
    "    temp_mask[0, ...] = heart\n",
    "    temp_mask[1, ...] = left_lung + right_lung\n",
    "    temp_mask[2, ...] = left_clavicle + right_clavicle\n",
    "    \n",
    "    np.save(os.path.join('JSRT/Label/', JSRT_MASK.split(os.sep)[-1].replace('.gif', '_mask.npy')), np.clip(temp_mask, 0, 255))"
   ]
  }
 ],
 "metadata": {
  "kernelspec": {
   "display_name": "Python 3",
   "language": "python",
   "name": "python3"
  },
  "language_info": {
   "codemirror_mode": {
    "name": "ipython",
    "version": 3
   },
   "file_extension": ".py",
   "mimetype": "text/x-python",
   "name": "python",
   "nbconvert_exporter": "python",
   "pygments_lexer": "ipython3",
   "version": "3.5.2"
  }
 },
 "nbformat": 4,
 "nbformat_minor": 2
}
